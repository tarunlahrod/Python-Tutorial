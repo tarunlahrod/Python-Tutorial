{
 "cells": [
  {
   "cell_type": "markdown",
   "metadata": {},
   "source": [
    "## Tuples\n",
    "Tuples are immutable.\n",
    "<br>We use Parentheses instead of square brackets"
   ]
  },
  {
   "cell_type": "code",
   "execution_count": 1,
   "metadata": {},
   "outputs": [
    {
     "name": "stdout",
     "output_type": "stream",
     "text": [
      "('History', 'Maths', 'Physics', 'CompSci')\n",
      "('History', 'Maths', 'Physics', 'CompSci')\n"
     ]
    }
   ],
   "source": [
    "tuple_1 = ('History', 'Maths', 'Physics', 'CompSci')\n",
    "tuple_2 = tuple_1\n",
    "print(tuple_1)\n",
    "print(tuple_2)"
   ]
  },
  {
   "cell_type": "markdown",
   "metadata": {},
   "source": [
    "Changing (mutating) won't work in tuples. Gives error."
   ]
  },
  {
   "cell_type": "code",
   "execution_count": 2,
   "metadata": {},
   "outputs": [
    {
     "ename": "NameError",
     "evalue": "name 'tuple_' is not defined",
     "output_type": "error",
     "traceback": [
      "\u001b[0;31m---------------------------------------------------------------------------\u001b[0m",
      "\u001b[0;31mNameError\u001b[0m                                 Traceback (most recent call last)",
      "\u001b[0;32m<ipython-input-2-4c9cf3b64c15>\u001b[0m in \u001b[0;36m<module>\u001b[0;34m\u001b[0m\n\u001b[0;32m----> 1\u001b[0;31m \u001b[0mtuple_\u001b[0m\u001b[0;34m[\u001b[0m\u001b[0;36m0\u001b[0m\u001b[0;34m]\u001b[0m \u001b[0;34m=\u001b[0m \u001b[0;34m'Art'\u001b[0m\u001b[0;34m\u001b[0m\u001b[0;34m\u001b[0m\u001b[0m\n\u001b[0m",
      "\u001b[0;31mNameError\u001b[0m: name 'tuple_' is not defined"
     ]
    }
   ],
   "source": [
    "tuple_[0] = 'Art'"
   ]
  },
  {
   "cell_type": "markdown",
   "metadata": {},
   "source": [
    "## Sets\n",
    "Unordered values without duplicates.\n",
    "<br> We use curly braces."
   ]
  },
  {
   "cell_type": "code",
   "execution_count": null,
   "metadata": {},
   "outputs": [],
   "source": [
    "cs_courses = {'History', 'Maths', 'Physics', 'CompSci'}\n",
    "print(cs_courses)"
   ]
  },
  {
   "cell_type": "markdown",
   "metadata": {},
   "source": [
    "Try adding a duplicate."
   ]
  },
  {
   "cell_type": "code",
   "execution_count": null,
   "metadata": {},
   "outputs": [],
   "source": [
    "cs_courses = {'History', 'Maths', 'Physics', 'CompSci', 'Maths'}\n",
    "print(cs_courses)"
   ]
  },
  {
   "cell_type": "markdown",
   "metadata": {},
   "source": [
    "Sets are used to test whether a value is part of a set or not. \n",
    "<br> Sets does it pretty much efficiently than lists.\n",
    "<br> This is called <strong>Membership test</strong>."
   ]
  },
  {
   "cell_type": "code",
   "execution_count": null,
   "metadata": {},
   "outputs": [],
   "source": [
    "print('Maths' in cs_courses)"
   ]
  },
  {
   "cell_type": "markdown",
   "metadata": {},
   "source": [
    "<b>Intersection</b> and <b>difference</b> in sets."
   ]
  },
  {
   "cell_type": "code",
   "execution_count": null,
   "metadata": {},
   "outputs": [],
   "source": [
    "art_courses = {'History', 'Maths', 'Art', 'Design'}\n",
    "\n",
    "print(cs_courses.intersection(art_courses))\n",
    "\n",
    "print(cs_courses.difference(art_courses))"
   ]
  },
  {
   "cell_type": "markdown",
   "metadata": {},
   "source": [
    "<b>Union</b> method."
   ]
  },
  {
   "cell_type": "code",
   "execution_count": null,
   "metadata": {},
   "outputs": [],
   "source": [
    "print(cs_courses.union(art_courses))"
   ]
  },
  {
   "cell_type": "markdown",
   "metadata": {},
   "source": [
    "### How to create empty list, tuple and set?"
   ]
  },
  {
   "cell_type": "markdown",
   "metadata": {},
   "source": [
    "Empty Lists"
   ]
  },
  {
   "cell_type": "code",
   "execution_count": null,
   "metadata": {},
   "outputs": [],
   "source": [
    "empty_list = []\n",
    "empty_list = list()"
   ]
  },
  {
   "cell_type": "markdown",
   "metadata": {},
   "source": [
    "Empty Tuples\n"
   ]
  },
  {
   "cell_type": "code",
   "execution_count": null,
   "metadata": {},
   "outputs": [],
   "source": [
    "empty_tuple = ()\n",
    "empty_tuple = tuple()"
   ]
  },
  {
   "cell_type": "markdown",
   "metadata": {},
   "source": [
    "Empty Sets"
   ]
  },
  {
   "cell_type": "code",
   "execution_count": null,
   "metadata": {},
   "outputs": [],
   "source": [
    "empty_set = {}    # This isn't right! It's a dictionary\n",
    "empty_set = set()"
   ]
  },
  {
   "cell_type": "markdown",
   "metadata": {},
   "source": [
    "## Dictionary"
   ]
  },
  {
   "cell_type": "markdown",
   "metadata": {},
   "source": [
    "Dictionary are just key-value pairs.\n",
    "<br>\n",
    "```python\n",
    "dict = {key : value}\n",
    "```"
   ]
  },
  {
   "cell_type": "code",
   "execution_count": null,
   "metadata": {},
   "outputs": [],
   "source": [
    "student = {'name': 'Saitama', 'age': 24, 'courses': ['Maths', 'CompSci']}\n",
    "print(student)"
   ]
  },
  {
   "cell_type": "code",
   "execution_count": null,
   "metadata": {},
   "outputs": [],
   "source": [
    "print(student['courses'])"
   ]
  },
  {
   "cell_type": "markdown",
   "metadata": {},
   "source": [
    "If the key-value pair doesn't exist in the dictionary, it shows error. To avoid the error we use <b>get() method</b>.\n",
    "<br>It returns the value if the key is present, and returns <b>None</b> if the key is not present in the dictionary."
   ]
  },
  {
   "cell_type": "code",
   "execution_count": null,
   "metadata": {},
   "outputs": [],
   "source": [
    "print(student.get('class'))"
   ]
  },
  {
   "cell_type": "markdown",
   "metadata": {},
   "source": [
    "We can also specify the default value for those key that doesn't exist in our dictionary."
   ]
  },
  {
   "cell_type": "code",
   "execution_count": null,
   "metadata": {},
   "outputs": [],
   "source": [
    "print(student.get('class', 'Not found'))"
   ]
  },
  {
   "cell_type": "markdown",
   "metadata": {},
   "source": [
    "<h4>To update a value in a dictionary</h4>"
   ]
  },
  {
   "cell_type": "code",
   "execution_count": null,
   "metadata": {},
   "outputs": [],
   "source": [
    "student['name'] = 'Mob-Kun'\n",
    "print(student)"
   ]
  },
  {
   "cell_type": "markdown",
   "metadata": {},
   "source": [
    "To update multiple values in a dictionary, we use the <b>update() method</b> which takes a dictionary as its argument.\n",
    "<br>Note that in the example below the a new key 'phone' is added and rest are updated except 'courses'. So it remained unchanged."
   ]
  },
  {
   "cell_type": "code",
   "execution_count": 3,
   "metadata": {},
   "outputs": [
    {
     "ename": "NameError",
     "evalue": "name 'student' is not defined",
     "output_type": "error",
     "traceback": [
      "\u001b[0;31m---------------------------------------------------------------------------\u001b[0m",
      "\u001b[0;31mNameError\u001b[0m                                 Traceback (most recent call last)",
      "\u001b[0;32m<ipython-input-3-d7692e2eaf36>\u001b[0m in \u001b[0;36m<module>\u001b[0;34m\u001b[0m\n\u001b[0;32m----> 1\u001b[0;31m \u001b[0mstudent\u001b[0m\u001b[0;34m.\u001b[0m\u001b[0mupdate\u001b[0m\u001b[0;34m(\u001b[0m\u001b[0;34m{\u001b[0m\u001b[0;34m'name'\u001b[0m\u001b[0;34m:\u001b[0m \u001b[0;34m'Light Yagami'\u001b[0m\u001b[0;34m,\u001b[0m \u001b[0;34m'age'\u001b[0m\u001b[0;34m:\u001b[0m \u001b[0;36m19\u001b[0m\u001b[0;34m,\u001b[0m \u001b[0;34m'phone'\u001b[0m\u001b[0;34m:\u001b[0m \u001b[0;34m'9900-9900'\u001b[0m\u001b[0;34m}\u001b[0m\u001b[0;34m)\u001b[0m\u001b[0;34m\u001b[0m\u001b[0;34m\u001b[0m\u001b[0m\n\u001b[0m",
      "\u001b[0;31mNameError\u001b[0m: name 'student' is not defined"
     ]
    }
   ],
   "source": [
    "student.update({'name': 'Light Yagami', 'age': 19, 'phone': '9900-9900'})"
   ]
  },
  {
   "cell_type": "code",
   "execution_count": null,
   "metadata": {},
   "outputs": [],
   "source": [
    "print(student)"
   ]
  },
  {
   "cell_type": "markdown",
   "metadata": {},
   "source": [
    "<h4>To delete a specific key and its value</h4>"
   ]
  },
  {
   "cell_type": "code",
   "execution_count": null,
   "metadata": {},
   "outputs": [],
   "source": [
    "del student['age']\n",
    "print(student)"
   ]
  },
  {
   "cell_type": "markdown",
   "metadata": {},
   "source": [
    "We can also use pop() method. \n",
    "<br><b>Remember</b>: pop() method returns the value popped."
   ]
  },
  {
   "cell_type": "code",
   "execution_count": null,
   "metadata": {},
   "outputs": [],
   "source": [
    "# lets add age again to delete, again. XD\n",
    "student['age'] = 25"
   ]
  },
  {
   "cell_type": "code",
   "execution_count": null,
   "metadata": {},
   "outputs": [],
   "source": [
    "age = student.pop('age')\n",
    "print(age)"
   ]
  },
  {
   "cell_type": "markdown",
   "metadata": {},
   "source": [
    "<h4>Lenght of a dictionary</h4>"
   ]
  },
  {
   "cell_type": "code",
   "execution_count": null,
   "metadata": {},
   "outputs": [],
   "source": [
    "print(len(student))"
   ]
  },
  {
   "cell_type": "code",
   "execution_count": null,
   "metadata": {},
   "outputs": [],
   "source": [
    "print(student.keys())"
   ]
  },
  {
   "cell_type": "code",
   "execution_count": null,
   "metadata": {},
   "outputs": [],
   "source": [
    "print(student.values())"
   ]
  },
  {
   "cell_type": "code",
   "execution_count": null,
   "metadata": {},
   "outputs": [],
   "source": [
    "print(student.items())"
   ]
  },
  {
   "cell_type": "markdown",
   "metadata": {},
   "source": [
    "<h4>Looping through the dictionary</h4>"
   ]
  },
  {
   "cell_type": "code",
   "execution_count": null,
   "metadata": {},
   "outputs": [],
   "source": [
    "for key in student:\n",
    "    print(key)"
   ]
  },
  {
   "cell_type": "code",
   "execution_count": null,
   "metadata": {},
   "outputs": [],
   "source": [
    "for key in student.items():\n",
    "    print(key)"
   ]
  },
  {
   "cell_type": "markdown",
   "metadata": {},
   "source": [
    "# Conditionals and Booleans"
   ]
  },
  {
   "cell_type": "markdown",
   "metadata": {},
   "source": [
    "## Basic syntax\n",
    "```python\n",
    "condition = False\n",
    "\n",
    "if condition:\n",
    "    print(\"Evaluates to true\")\n",
    "else:\n",
    "    print(\"Evaluates to false\")\n",
    "```"
   ]
  },
  {
   "cell_type": "markdown",
   "metadata": {},
   "source": [
    "### ```None``` in if statement"
   ]
  },
  {
   "cell_type": "code",
   "execution_count": 4,
   "metadata": {},
   "outputs": [
    {
     "name": "stdout",
     "output_type": "stream",
     "text": [
      "Evaluates to false\n"
     ]
    }
   ],
   "source": [
    "condition = None\n",
    "\n",
    "if condition:\n",
    "    print(\"Evaluates to true\")\n",
    "else:\n",
    "    print(\"Evaluates to false\")"
   ]
  },
  {
   "cell_type": "markdown",
   "metadata": {},
   "source": [
    "### Non zero of any numeric type"
   ]
  },
  {
   "cell_type": "code",
   "execution_count": 5,
   "metadata": {},
   "outputs": [
    {
     "name": "stdout",
     "output_type": "stream",
     "text": [
      "Evaluates to true\n"
     ]
    }
   ],
   "source": [
    "condition = 2\n",
    "\n",
    "if condition:\n",
    "    print(\"Evaluates to true\")\n",
    "else:\n",
    "    print(\"Evaluates to false\")"
   ]
  },
  {
   "cell_type": "markdown",
   "metadata": {},
   "source": [
    "### Zero of any numeric type"
   ]
  },
  {
   "cell_type": "code",
   "execution_count": 6,
   "metadata": {},
   "outputs": [
    {
     "name": "stdout",
     "output_type": "stream",
     "text": [
      "Evaluates to false\n"
     ]
    }
   ],
   "source": [
    "condition = 0\n",
    "\n",
    "if condition:\n",
    "    print(\"Evaluates to true\")\n",
    "else:\n",
    "    print(\"Evaluates to false\")"
   ]
  },
  {
   "cell_type": "markdown",
   "metadata": {},
   "source": [
    "### Any empty sequence\n",
    "For example: ' ', ( ), [ ]"
   ]
  },
  {
   "cell_type": "code",
   "execution_count": 7,
   "metadata": {},
   "outputs": [
    {
     "name": "stdout",
     "output_type": "stream",
     "text": [
      "Evaluates to false\n"
     ]
    }
   ],
   "source": [
    "condition = ''\n",
    "\n",
    "if condition:\n",
    "    print(\"Evaluates to true\")\n",
    "else:\n",
    "    print(\"Evaluates to false\")"
   ]
  },
  {
   "cell_type": "markdown",
   "metadata": {},
   "source": [
    "### Any empty mapping (dictionary)\n",
    "For example, {}"
   ]
  },
  {
   "cell_type": "code",
   "execution_count": 8,
   "metadata": {},
   "outputs": [
    {
     "name": "stdout",
     "output_type": "stream",
     "text": [
      "Evaluates to false\n"
     ]
    }
   ],
   "source": [
    "condition = {}\n",
    "\n",
    "if condition:\n",
    "    print(\"Evaluates to true\")\n",
    "else:\n",
    "    print(\"Evaluates to false\")"
   ]
  },
  {
   "cell_type": "code",
   "execution_count": 9,
   "metadata": {},
   "outputs": [
    {
     "name": "stdout",
     "output_type": "stream",
     "text": [
      "language: python\n"
     ]
    }
   ],
   "source": [
    "language = 'python'\n",
    "\n",
    "if language == 'python':\n",
    "    print(\"language: python\")\n",
    "else:\n",
    "    print('language: not python')"
   ]
  },
  {
   "cell_type": "code",
   "execution_count": 10,
   "metadata": {},
   "outputs": [
    {
     "name": "stdout",
     "output_type": "stream",
     "text": [
      "Bad credentials\n"
     ]
    }
   ],
   "source": [
    "user = 'Admin'\n",
    "logged_in = False\n",
    "\n",
    "if user == 'Admin' and logged_in:\n",
    "    print(\"Homepage\")\n",
    "else:\n",
    "    print(\"Bad credentials\")"
   ]
  },
  {
   "cell_type": "markdown",
   "metadata": {},
   "source": [
    "## Equating two lists"
   ]
  },
  {
   "cell_type": "code",
   "execution_count": 11,
   "metadata": {},
   "outputs": [
    {
     "name": "stdout",
     "output_type": "stream",
     "text": [
      "a == b :  True\n",
      "a is b :  False\n"
     ]
    }
   ],
   "source": [
    "a = [1, 2, 3]\n",
    "b = [1, 2, 3]\n",
    "\n",
    "print(\"a == b : \", a == b)\n",
    "print(\"a is b : \", a is b)"
   ]
  },
  {
   "cell_type": "markdown",
   "metadata": {},
   "source": [
    "In the above code, \n",
    "```python\n",
    "a is b\n",
    "```\n",
    "evaluates to False because a and b are two different objects. Both of them have different memory location.\n",
    "<br>\n",
    "We can check this by ```id()``` function."
   ]
  },
  {
   "cell_type": "code",
   "execution_count": 12,
   "metadata": {},
   "outputs": [
    {
     "name": "stdout",
     "output_type": "stream",
     "text": [
      "140320047979528\n",
      "140320010738888\n"
     ]
    }
   ],
   "source": [
    "print(id(a))\n",
    "print(id(b))"
   ]
  },
  {
   "cell_type": "markdown",
   "metadata": {},
   "source": [
    "If our code was like this, then id of the two would have been same."
   ]
  },
  {
   "cell_type": "code",
   "execution_count": 13,
   "metadata": {},
   "outputs": [
    {
     "name": "stdout",
     "output_type": "stream",
     "text": [
      "id(a):  140320047979528\n",
      "id(b):  140320047979528\n"
     ]
    }
   ],
   "source": [
    "b = a\n",
    "print(\"id(a): \", id(a))\n",
    "print(\"id(b): \", id(b))\n"
   ]
  },
  {
   "cell_type": "markdown",
   "metadata": {},
   "source": [
    "# Looping statements"
   ]
  },
  {
   "cell_type": "markdown",
   "metadata": {},
   "source": [
    "## ```for()``` loop"
   ]
  },
  {
   "cell_type": "code",
   "execution_count": 14,
   "metadata": {},
   "outputs": [
    {
     "name": "stdout",
     "output_type": "stream",
     "text": [
      "1\n",
      "2\n",
      "3\n",
      "4\n",
      "5\n"
     ]
    }
   ],
   "source": [
    "nums = [1, 2, 3, 4, 5]\n",
    "\n",
    "for num in nums:\n",
    "    print(num)"
   ]
  },
  {
   "cell_type": "markdown",
   "metadata": {},
   "source": [
    "### ```break``` statement"
   ]
  },
  {
   "cell_type": "code",
   "execution_count": 15,
   "metadata": {},
   "outputs": [
    {
     "name": "stdout",
     "output_type": "stream",
     "text": [
      "1\n",
      "2\n",
      "3\n"
     ]
    }
   ],
   "source": [
    "nums = [1, 2, 3, 4, 5]\n",
    "\n",
    "for num in nums:\n",
    "    print(num)\n",
    "    if num == 3:\n",
    "        break"
   ]
  },
  {
   "cell_type": "markdown",
   "metadata": {},
   "source": [
    "### ```continue``` statement"
   ]
  },
  {
   "cell_type": "code",
   "execution_count": 16,
   "metadata": {},
   "outputs": [
    {
     "name": "stdout",
     "output_type": "stream",
     "text": [
      "1\n",
      "2\n",
      "4\n",
      "5\n"
     ]
    }
   ],
   "source": [
    "nums = [1, 2, 3, 4, 5]\n",
    "\n",
    "for num in nums:\n",
    "    if num == 3:\n",
    "        continue\n",
    "    print(num)"
   ]
  },
  {
   "cell_type": "markdown",
   "metadata": {},
   "source": [
    "## Nested loop"
   ]
  },
  {
   "cell_type": "code",
   "execution_count": 17,
   "metadata": {},
   "outputs": [
    {
     "name": "stdout",
     "output_type": "stream",
     "text": [
      "1 a\n",
      "1 b\n",
      "1 c\n",
      "2 a\n",
      "2 b\n",
      "2 c\n",
      "3 a\n",
      "3 b\n",
      "3 c\n",
      "4 a\n",
      "4 b\n",
      "4 c\n",
      "5 a\n",
      "5 b\n",
      "5 c\n"
     ]
    }
   ],
   "source": [
    "for num in nums:\n",
    "    for letter in \"abc\":\n",
    "        print(num, letter)"
   ]
  },
  {
   "cell_type": "markdown",
   "metadata": {},
   "source": [
    "### range() function"
   ]
  },
  {
   "cell_type": "code",
   "execution_count": 18,
   "metadata": {},
   "outputs": [
    {
     "name": "stdout",
     "output_type": "stream",
     "text": [
      "0\n",
      "1\n",
      "2\n",
      "3\n",
      "4\n",
      "5\n",
      "6\n",
      "7\n",
      "8\n",
      "9\n"
     ]
    }
   ],
   "source": [
    "for i in range(10):\n",
    "    print(i)"
   ]
  },
  {
   "cell_type": "code",
   "execution_count": 19,
   "metadata": {},
   "outputs": [
    {
     "name": "stdout",
     "output_type": "stream",
     "text": [
      "10\n",
      "11\n",
      "12\n",
      "13\n",
      "14\n",
      "15\n",
      "16\n",
      "17\n",
      "18\n",
      "19\n"
     ]
    }
   ],
   "source": [
    "for i in range(10, 20):\n",
    "    print(i)"
   ]
  },
  {
   "cell_type": "markdown",
   "metadata": {},
   "source": [
    "## ```while(condition)``` loop"
   ]
  },
  {
   "cell_type": "code",
   "execution_count": 20,
   "metadata": {},
   "outputs": [
    {
     "name": "stdout",
     "output_type": "stream",
     "text": [
      "0\n",
      "1\n",
      "2\n",
      "3\n",
      "4\n"
     ]
    }
   ],
   "source": [
    "x = 0\n",
    "while x < 5:\n",
    "    print(x)\n",
    "    x+=1"
   ]
  },
  {
   "cell_type": "markdown",
   "metadata": {},
   "source": [
    "# ```functions( )```"
   ]
  },
  {
   "cell_type": "code",
   "execution_count": 21,
   "metadata": {},
   "outputs": [],
   "source": [
    "def func():\n",
    "    print(\"hello I am in the function\")"
   ]
  },
  {
   "cell_type": "code",
   "execution_count": 22,
   "metadata": {},
   "outputs": [
    {
     "name": "stdout",
     "output_type": "stream",
     "text": [
      "hello I am in the function\n"
     ]
    }
   ],
   "source": [
    "func()"
   ]
  },
  {
   "cell_type": "markdown",
   "metadata": {},
   "source": [
    "### A function for finding ```factorial()``` of a number"
   ]
  },
  {
   "cell_type": "code",
   "execution_count": 23,
   "metadata": {},
   "outputs": [
    {
     "name": "stdout",
     "output_type": "stream",
     "text": [
      "5\n",
      "factorial =  120\n"
     ]
    }
   ],
   "source": [
    "def factorial(n):\n",
    "    if n == 0:\n",
    "        return 1;\n",
    "    return n*factorial(n-1)\n",
    "\n",
    "n = int(input())\n",
    "print(\"factorial = \", factorial(n))"
   ]
  },
  {
   "cell_type": "markdown",
   "metadata": {},
   "source": [
    "### ```function(*args, **kwargs)```"
   ]
  },
  {
   "cell_type": "code",
   "execution_count": 24,
   "metadata": {},
   "outputs": [
    {
     "name": "stdout",
     "output_type": "stream",
     "text": [
      "('Maths', 'Art')\n",
      "{'name': 'Tarun', 'age': 20}\n"
     ]
    }
   ],
   "source": [
    "def student_info(*args, **kwargs):\n",
    "    print(args)\n",
    "    print(kwargs)\n",
    "\n",
    "student_info('Maths', 'Art', name = 'Tarun', age = 20)"
   ]
  },
  {
   "cell_type": "markdown",
   "metadata": {},
   "source": [
    "Output is stored in form of **TUPLE** and **DICTIONARY**."
   ]
  },
  {
   "cell_type": "markdown",
   "metadata": {},
   "source": [
    "# Importing Modules and Exploring the Standard Library"
   ]
  },
  {
   "cell_type": "code",
   "execution_count": 25,
   "metadata": {},
   "outputs": [
    {
     "name": "stdout",
     "output_type": "stream",
     "text": [
      "'1. Working with strings.py'\t\t\t\t   my_module.py\r\n",
      "'2. Integers and Floats - Working with numneric data.py'   names.csv\r\n",
      "'3. Lists, Tuples and Sets.py'\t\t\t\t   new_names.csv\r\n",
      "'4. onwards and continued.ipynb'\t\t\t   __pycache__\r\n",
      " image_copy.png\t\t\t\t\t\t   text2.txt\r\n",
      " image_copy_using_chunk.png\t\t\t\t   text_copy.txt\r\n",
      " image.png\t\t\t\t\t\t   text.txt\r\n"
     ]
    }
   ],
   "source": [
    "!ls"
   ]
  },
  {
   "cell_type": "code",
   "execution_count": 26,
   "metadata": {},
   "outputs": [
    {
     "name": "stdout",
     "output_type": "stream",
     "text": [
      "Imported my_module\n"
     ]
    }
   ],
   "source": [
    "import my_module"
   ]
  },
  {
   "cell_type": "code",
   "execution_count": 27,
   "metadata": {},
   "outputs": [
    {
     "name": "stdout",
     "output_type": "stream",
     "text": [
      "3\n"
     ]
    }
   ],
   "source": [
    "courses = ['History', 'Maths', 'Physics', 'CompSci']\n",
    "\n",
    "index = my_module.find_index(courses, 'CompSci')\n",
    "print(index)"
   ]
  },
  {
   "cell_type": "code",
   "execution_count": 28,
   "metadata": {},
   "outputs": [
    {
     "data": {
      "text/plain": [
       "'Test string'"
      ]
     },
     "execution_count": 28,
     "metadata": {},
     "output_type": "execute_result"
    }
   ],
   "source": [
    "my_module.test"
   ]
  },
  {
   "cell_type": "markdown",
   "metadata": {},
   "source": [
    "# Reading and Writing files using File Objects"
   ]
  },
  {
   "cell_type": "markdown",
   "metadata": {},
   "source": [
    "## Reading\n",
    "Default opening mode: **Reading (r)**\n",
    "<br>\n",
    "Reading: r \n",
    "<br>Writing: w\n",
    "<br>Append: a\n",
    "<br>Reading and Append: r+a"
   ]
  },
  {
   "cell_type": "code",
   "execution_count": 29,
   "metadata": {},
   "outputs": [],
   "source": [
    "f = open('text.txt', 'r')"
   ]
  },
  {
   "cell_type": "code",
   "execution_count": 30,
   "metadata": {},
   "outputs": [
    {
     "name": "stdout",
     "output_type": "stream",
     "text": [
      "text.txt\n",
      "r\n"
     ]
    }
   ],
   "source": [
    "print(f.name)\n",
    "print(f.mode)"
   ]
  },
  {
   "cell_type": "markdown",
   "metadata": {},
   "source": [
    "Since we opened the file using **```open()```** function. Therefore we must close the file using **```close()```** function.\n",
    "<br> <br>\n",
    "**<font color=\"green\">Q: Why bothering about closing a file?</font>**\n",
    "<br>\n",
    "**<font color=\"blue\">A: Because it may result in memory leaks and run over the maximum allowed limit of memory.</font>**\n",
    "<br>"
   ]
  },
  {
   "cell_type": "code",
   "execution_count": 31,
   "metadata": {},
   "outputs": [],
   "source": [
    "f.close()"
   ]
  },
  {
   "cell_type": "markdown",
   "metadata": {},
   "source": [
    "### Alternate way of opening a file\n",
    "**using ```with``` operator**\n",
    "```python\n",
    "with open('text.txt', 'r') as f:\n",
    "    # block starts here\n",
    "    \n",
    "    # some code here\n",
    "    print(f.name)\n",
    "    \n",
    "    # some more code here\n",
    "    print(f.mode)\n",
    "    \n",
    "    # block ends here\n",
    "```\n",
    "<br> **NOTE**<br> The main benefit of using ```with``` operator is that we need not to worry about closing the file. It will automatically close the file as soon as we leave the block."
   ]
  },
  {
   "cell_type": "code",
   "execution_count": 32,
   "metadata": {},
   "outputs": [
    {
     "name": "stdout",
     "output_type": "stream",
     "text": [
      "File name:  text.txt\n",
      "File mode:  r\n",
      "File content: \n",
      " hey! this is just a text sample.\n",
      "this is second line.\n",
      "this is third line\n",
      "and this is  4th line\n",
      "\n",
      "\n"
     ]
    }
   ],
   "source": [
    "with open('text.txt', 'r') as f:\n",
    "    print(\"File name: \", f.name)\n",
    "    print(\"File mode: \", f.mode)\n",
    "    print(\"File content: \\n\", f.read())"
   ]
  },
  {
   "cell_type": "markdown",
   "metadata": {},
   "source": [
    "Though even out of the block, we still have the access to the file object **f**. The file have been closed but we can still access the file object."
   ]
  },
  {
   "cell_type": "code",
   "execution_count": 33,
   "metadata": {},
   "outputs": [
    {
     "name": "stdout",
     "output_type": "stream",
     "text": [
      "True\n"
     ]
    }
   ],
   "source": [
    "print(f.closed)"
   ]
  },
  {
   "cell_type": "code",
   "execution_count": 34,
   "metadata": {},
   "outputs": [
    {
     "name": "stdout",
     "output_type": "stream",
     "text": [
      "hey! this is just a text sample.\n",
      "this is second line.\n",
      "this is third line\n",
      "and this is  4th line\n",
      "\n",
      "\n"
     ]
    }
   ],
   "source": [
    "with open('text.txt', 'r') as f:\n",
    "    f_contents = f.read()\n",
    "    print(f_contents)"
   ]
  },
  {
   "cell_type": "markdown",
   "metadata": {},
   "source": [
    "#### Read first line"
   ]
  },
  {
   "cell_type": "code",
   "execution_count": 35,
   "metadata": {},
   "outputs": [
    {
     "name": "stdout",
     "output_type": "stream",
     "text": [
      "hey! this is just a text sample.\n",
      "\n"
     ]
    }
   ],
   "source": [
    "with open('text.txt', 'r') as f:\n",
    "    f_contents = f.readline()\n",
    "    print(f_contents)"
   ]
  },
  {
   "cell_type": "markdown",
   "metadata": {},
   "source": [
    "#### Read first and second lines"
   ]
  },
  {
   "cell_type": "code",
   "execution_count": 36,
   "metadata": {},
   "outputs": [
    {
     "name": "stdout",
     "output_type": "stream",
     "text": [
      "hey! this is just a text sample.\n",
      "\n",
      "this is second line.\n",
      "\n"
     ]
    }
   ],
   "source": [
    "with open('text.txt', 'r') as f:\n",
    "    f_contents = f.readline()\n",
    "    print(f_contents)\n",
    "    \n",
    "    f_contents = f.readline()\n",
    "    print(f_contents)"
   ]
  },
  {
   "cell_type": "markdown",
   "metadata": {},
   "source": [
    "The print statement automatically ends with a newline character. So it added an empty line between the two lines.<br>Although, this can be changed like this."
   ]
  },
  {
   "cell_type": "code",
   "execution_count": 37,
   "metadata": {},
   "outputs": [
    {
     "name": "stdout",
     "output_type": "stream",
     "text": [
      "hey! this is just a text sample.\n",
      "this is second line.\n"
     ]
    }
   ],
   "source": [
    "with open('text.txt', 'r') as f:\n",
    "    f_contents = f.readline()\n",
    "    print(f_contents, end = '')\n",
    "    \n",
    "    f_contents = f.readline()\n",
    "    print(f_contents, end = '')"
   ]
  },
  {
   "cell_type": "markdown",
   "metadata": {},
   "source": [
    "#### Read all lines"
   ]
  },
  {
   "cell_type": "code",
   "execution_count": 38,
   "metadata": {},
   "outputs": [
    {
     "name": "stdout",
     "output_type": "stream",
     "text": [
      "hey! this is just a text sample.\n",
      "this is second line.\n",
      "this is third line\n",
      "and this is  4th line\n",
      "\n",
      "\n"
     ]
    }
   ],
   "source": [
    "with open('text.txt', 'r') as f:\n",
    "    f_contents = f.read()\n",
    "    print(f_contents)"
   ]
  },
  {
   "cell_type": "markdown",
   "metadata": {},
   "source": [
    "#### Using iterator "
   ]
  },
  {
   "cell_type": "code",
   "execution_count": 39,
   "metadata": {},
   "outputs": [
    {
     "name": "stdout",
     "output_type": "stream",
     "text": [
      "hey! this is just a text sample.\n",
      "this is second line.\n",
      "this is third line\n",
      "and this is  4th line\n",
      "\n"
     ]
    }
   ],
   "source": [
    "with open('text.txt', 'r') as f:\n",
    "    for line in f:\n",
    "        print(line, end = '')"
   ]
  },
  {
   "cell_type": "markdown",
   "metadata": {},
   "source": [
    "#### More with ```read()```"
   ]
  },
  {
   "cell_type": "code",
   "execution_count": 40,
   "metadata": {},
   "outputs": [
    {
     "name": "stdout",
     "output_type": "stream",
     "text": [
      "hey! this is just a text sample.\n",
      "this is second line.\n",
      "this is third line\n",
      "and thi"
     ]
    }
   ],
   "source": [
    "with open('text.txt', 'r') as f:\n",
    "    # reading first 40 characters of file\n",
    "    f_contents = f.read(40)\n",
    "    print(f_contents, end = '')\n",
    "        \n",
    "    # reading next 20 characters from file\n",
    "    # it picks up from the point where it left\n",
    "    f_contents = f.read(40)\n",
    "    print(f_contents, end = '')"
   ]
  },
  {
   "cell_type": "markdown",
   "metadata": {},
   "source": [
    "#### ```f.tell()```"
   ]
  },
  {
   "cell_type": "code",
   "execution_count": 41,
   "metadata": {},
   "outputs": [
    {
     "name": "stdout",
     "output_type": "stream",
     "text": [
      "Printing first 30 characters: \n",
      "hey! this is just a text sampl\n",
      "Current character: 30\n"
     ]
    }
   ],
   "source": [
    "with open('text.txt', 'r') as f:\n",
    "    print('Printing first 30 characters: ')\n",
    "    f_contents = f.read(30)\n",
    "    print(f_contents)\n",
    "    \n",
    "    print('Current character:', f.tell())"
   ]
  },
  {
   "cell_type": "markdown",
   "metadata": {},
   "source": [
    "#### ```f.seek()```"
   ]
  },
  {
   "cell_type": "code",
   "execution_count": 42,
   "metadata": {},
   "outputs": [
    {
     "name": "stdout",
     "output_type": "stream",
     "text": [
      "Printing first 10 characters: \n",
      "hey! this \n",
      "\n",
      "(Moving to 20th character)\n",
      "\n",
      "Printing next 10 characters: \n",
      "text sampl\n"
     ]
    }
   ],
   "source": [
    "with open('text.txt', 'r') as f:\n",
    "    print('Printing first 10 characters: ')\n",
    "    f_contents = f.read(10)\n",
    "    print(f_contents)\n",
    "    \n",
    "    print('\\n(Moving to 20th character)')\n",
    "    f.seek(20)\n",
    "    \n",
    "    \n",
    "    print('\\nPrinting next 10 characters: ')\n",
    "    f_contents = f.read(10)\n",
    "    print(f_contents)"
   ]
  },
  {
   "cell_type": "markdown",
   "metadata": {},
   "source": [
    "## Writing "
   ]
  },
  {
   "cell_type": "code",
   "execution_count": 43,
   "metadata": {},
   "outputs": [],
   "source": [
    "with open('text2.txt', 'w') as f:\n",
    "    f.write('Test')\n",
    "    f.write('Test')"
   ]
  },
  {
   "cell_type": "code",
   "execution_count": 44,
   "metadata": {},
   "outputs": [
    {
     "name": "stdout",
     "output_type": "stream",
     "text": [
      "TestTest"
     ]
    }
   ],
   "source": [
    "!cat text2.txt"
   ]
  },
  {
   "cell_type": "code",
   "execution_count": 45,
   "metadata": {},
   "outputs": [],
   "source": [
    "with open('text2.txt', 'w') as f:\n",
    "    f.write('Test')\n",
    "    f.seek(0)\n",
    "    f.write('R')"
   ]
  },
  {
   "cell_type": "code",
   "execution_count": 46,
   "metadata": {},
   "outputs": [
    {
     "name": "stdout",
     "output_type": "stream",
     "text": [
      "hey! this is just a text sample.\r\n",
      "this is second line.\r\n",
      "this is third line\r\n",
      "and this is  4th line\r\n",
      "\r\n"
     ]
    }
   ],
   "source": [
    "!cat text_copy.txt"
   ]
  },
  {
   "cell_type": "markdown",
   "metadata": {},
   "source": [
    "#### Copying content of a file into another file"
   ]
  },
  {
   "cell_type": "code",
   "execution_count": 47,
   "metadata": {},
   "outputs": [],
   "source": [
    "with open('text.txt', 'r') as rf:\n",
    "    with open('text_copy.txt', 'w') as wf:\n",
    "        for line in rf:\n",
    "            wf.write(line)"
   ]
  },
  {
   "cell_type": "code",
   "execution_count": 48,
   "metadata": {},
   "outputs": [
    {
     "name": "stdout",
     "output_type": "stream",
     "text": [
      "hey! this is just a text sample.\r\n",
      "this is second line.\r\n",
      "this is third line\r\n",
      "and this is  4th line\r\n",
      "\r\n"
     ]
    }
   ],
   "source": [
    "# text.txt file\n",
    "!cat text.txt"
   ]
  },
  {
   "cell_type": "code",
   "execution_count": 49,
   "metadata": {},
   "outputs": [
    {
     "name": "stdout",
     "output_type": "stream",
     "text": [
      "hey! this is just a text sample.\r\n",
      "this is second line.\r\n",
      "this is third line\r\n",
      "and this is  4th line\r\n",
      "\r\n"
     ]
    }
   ],
   "source": [
    "# text_copy.txt file\n",
    "!cat text_copy.txt"
   ]
  },
  {
   "cell_type": "markdown",
   "metadata": {},
   "source": [
    "## Working with ```image files```"
   ]
  },
  {
   "cell_type": "markdown",
   "metadata": {},
   "source": [
    "To work with files, we use **BINARY MODE**.\n",
    "<br>To copy an image, we copy it **bit-by-bit**.\n",
    "<br> We change the mode to binary mode by using **rb** and **wb**."
   ]
  },
  {
   "cell_type": "code",
   "execution_count": 50,
   "metadata": {},
   "outputs": [
    {
     "name": "stdout",
     "output_type": "stream",
     "text": [
      "Image copied successfully.\n"
     ]
    }
   ],
   "source": [
    "with open('image.png', 'rb') as rf:\n",
    "    with open('image_copy.png', 'wb') as wf:\n",
    "        for line in rf:\n",
    "            wf.write(line)\n",
    "        print('Image copied successfully.')"
   ]
  },
  {
   "cell_type": "markdown",
   "metadata": {},
   "source": [
    "### Alternate way\n",
    "Instead of doing this line-by-line, we can do this in **chuncks**."
   ]
  },
  {
   "cell_type": "code",
   "execution_count": 51,
   "metadata": {},
   "outputs": [
    {
     "name": "stdout",
     "output_type": "stream",
     "text": [
      "Image copied successfully.\n"
     ]
    }
   ],
   "source": [
    "with open('image.png', 'rb') as rf:\n",
    "    with open('image_copy_using_chunk.png', 'wb') as wf:\n",
    "        chunk_size = 4096\n",
    "        rf_chunk = rf.read(chunk_size)\n",
    "        \n",
    "        while len(rf_chunk) > 0:\n",
    "            wf.write(rf_chunk)\n",
    "            rf_chunk = rf.read(chunk_size)\n",
    "        \n",
    "        print('Image copied successfully.')"
   ]
  },
  {
   "cell_type": "markdown",
   "metadata": {},
   "source": [
    "# CSV Module"
   ]
  },
  {
   "cell_type": "code",
   "execution_count": 52,
   "metadata": {},
   "outputs": [],
   "source": [
    "import csv"
   ]
  },
  {
   "cell_type": "code",
   "execution_count": 53,
   "metadata": {},
   "outputs": [
    {
     "name": "stdout",
     "output_type": "stream",
     "text": [
      "'1. Working with strings.py'\t\t\t\t   my_module.py\r\n",
      "'2. Integers and Floats - Working with numneric data.py'   names.csv\r\n",
      "'3. Lists, Tuples and Sets.py'\t\t\t\t   new_names.csv\r\n",
      "'4. onwards and continued.ipynb'\t\t\t   __pycache__\r\n",
      " image_copy.png\t\t\t\t\t\t   text2.txt\r\n",
      " image_copy_using_chunk.png\t\t\t\t   text_copy.txt\r\n",
      " image.png\t\t\t\t\t\t   text.txt\r\n"
     ]
    }
   ],
   "source": [
    "!ls"
   ]
  },
  {
   "cell_type": "code",
   "execution_count": 54,
   "metadata": {},
   "outputs": [
    {
     "name": "stdout",
     "output_type": "stream",
     "text": [
      "['first_name', 'last_name', 'email']\n",
      "['John', 'Doe', 'john-doe@bogusemail.com']\n",
      "['Mary', 'Smith-Robinson', 'maryjacobs@bogusemail.com']\n",
      "['Dave', 'Smith', 'davesmith@bogusemail.com']\n",
      "['Jane', 'Stuart', 'janestuart@bogusemail.com']\n",
      "['Tom', 'Wright', 'tomwright@bogusemail.com']\n",
      "['Steve', 'Robinson', 'steverobinson@bogusemail.com']\n",
      "['Nicole', 'Jacobs', 'nicolejacobs@bogusemail.com']\n",
      "['Jane', 'Wright', 'janewright@bogusemail.com']\n",
      "['Jane', 'Doe', 'janedoe@bogusemail.com']\n",
      "['Kurt', 'Wright', 'kurtwright@bogusemail.com']\n",
      "['Kurt', 'Robinson', 'kurtrobinson@bogusemail.com']\n",
      "['Jane', 'Jenkins', 'janejenkins@bogusemail.com']\n",
      "['Neil', 'Robinson', 'neilrobinson@bogusemail.com']\n",
      "['Tom', 'Patterson', 'tompatterson@bogusemail.com']\n",
      "['Sam', 'Jenkins', 'samjenkins@bogusemail.com']\n",
      "['Steve', 'Stuart', 'stevestuart@bogusemail.com']\n",
      "['Maggie', 'Patterson', 'maggiepatterson@bogusemail.com']\n",
      "['Maggie', 'Stuart', 'maggiestuart@bogusemail.com']\n",
      "['Jane', 'Doe', 'janedoe@bogusemail.com']\n",
      "['Steve', 'Patterson', 'stevepatterson@bogusemail.com']\n",
      "['Dave', 'Smith', 'davesmith@bogusemail.com']\n",
      "['Sam', 'Wilks', 'samwilks@bogusemail.com']\n",
      "['Kurt', 'Jefferson', 'kurtjefferson@bogusemail.com']\n",
      "['Sam', 'Stuart', 'samstuart@bogusemail.com']\n",
      "['Jane', 'Stuart', 'janestuart@bogusemail.com']\n",
      "['Dave', 'Davis', 'davedavis@bogusemail.com']\n",
      "['Sam', 'Patterson', 'sampatterson@bogusemail.com']\n",
      "['Tom', 'Jefferson', 'tomjefferson@bogusemail.com']\n",
      "['Jane', 'Stuart', 'janestuart@bogusemail.com']\n",
      "['Maggie', 'Jefferson', 'maggiejefferson@bogusemail.com']\n",
      "['Mary', 'Wilks', 'marywilks@bogusemail.com']\n",
      "['Neil', 'Patterson', 'neilpatterson@bogusemail.com']\n",
      "['Corey', 'Davis', 'coreydavis@bogusemail.com']\n",
      "['Steve', 'Jacobs', 'stevejacobs@bogusemail.com']\n",
      "['Jane', 'Jenkins', 'janejenkins@bogusemail.com']\n",
      "['John', 'Jacobs', 'johnjacobs@bogusemail.com']\n",
      "['Neil', 'Smith', 'neilsmith@bogusemail.com']\n",
      "['Corey', 'Wilks', 'coreywilks@bogusemail.com']\n",
      "['Corey', 'Smith', 'coreysmith@bogusemail.com']\n",
      "['Mary', 'Patterson', 'marypatterson@bogusemail.com']\n",
      "['Jane', 'Stuart', 'janestuart@bogusemail.com']\n",
      "['Travis', 'Arnold', 'travisarnold@bogusemail.com']\n",
      "['John', 'Robinson', 'johnrobinson@bogusemail.com']\n",
      "['Travis', 'Arnold', 'travisarnold@bogusemail.com']\n"
     ]
    }
   ],
   "source": [
    "with open('names.csv', 'r') as csv_file:\n",
    "    csv_reader = csv.reader(csv_file)\n",
    "    \n",
    "    for line in csv_reader:\n",
    "        print(line)"
   ]
  },
  {
   "cell_type": "markdown",
   "metadata": {},
   "source": [
    "#### Printing specific column"
   ]
  },
  {
   "cell_type": "code",
   "execution_count": 55,
   "metadata": {},
   "outputs": [
    {
     "name": "stdout",
     "output_type": "stream",
     "text": [
      "email\n",
      "john-doe@bogusemail.com\n",
      "maryjacobs@bogusemail.com\n",
      "davesmith@bogusemail.com\n",
      "janestuart@bogusemail.com\n",
      "tomwright@bogusemail.com\n",
      "steverobinson@bogusemail.com\n",
      "nicolejacobs@bogusemail.com\n",
      "janewright@bogusemail.com\n",
      "janedoe@bogusemail.com\n",
      "kurtwright@bogusemail.com\n",
      "kurtrobinson@bogusemail.com\n",
      "janejenkins@bogusemail.com\n",
      "neilrobinson@bogusemail.com\n",
      "tompatterson@bogusemail.com\n",
      "samjenkins@bogusemail.com\n",
      "stevestuart@bogusemail.com\n",
      "maggiepatterson@bogusemail.com\n",
      "maggiestuart@bogusemail.com\n",
      "janedoe@bogusemail.com\n",
      "stevepatterson@bogusemail.com\n",
      "davesmith@bogusemail.com\n",
      "samwilks@bogusemail.com\n",
      "kurtjefferson@bogusemail.com\n",
      "samstuart@bogusemail.com\n",
      "janestuart@bogusemail.com\n",
      "davedavis@bogusemail.com\n",
      "sampatterson@bogusemail.com\n",
      "tomjefferson@bogusemail.com\n",
      "janestuart@bogusemail.com\n",
      "maggiejefferson@bogusemail.com\n",
      "marywilks@bogusemail.com\n",
      "neilpatterson@bogusemail.com\n",
      "coreydavis@bogusemail.com\n",
      "stevejacobs@bogusemail.com\n",
      "janejenkins@bogusemail.com\n",
      "johnjacobs@bogusemail.com\n",
      "neilsmith@bogusemail.com\n",
      "coreywilks@bogusemail.com\n",
      "coreysmith@bogusemail.com\n",
      "marypatterson@bogusemail.com\n",
      "janestuart@bogusemail.com\n",
      "travisarnold@bogusemail.com\n",
      "johnrobinson@bogusemail.com\n",
      "travisarnold@bogusemail.com\n"
     ]
    }
   ],
   "source": [
    "with open('names.csv', 'r') as csv_file:\n",
    "    csv_reader = csv.reader(csv_file)\n",
    "    \n",
    "    for line in csv_reader:\n",
    "        print(line[2])"
   ]
  },
  {
   "cell_type": "markdown",
   "metadata": {},
   "source": [
    "#### To skip over the first line, we can use the ```next(csv_obj)``` function\n",
    "<br>Say we want to skip the first value of email column i.e. **email**.\n",
    "<br>To do that we put **```next()```** function just before the loop. This makes the loop to skip over the first value."
   ]
  },
  {
   "cell_type": "code",
   "execution_count": 56,
   "metadata": {},
   "outputs": [
    {
     "name": "stdout",
     "output_type": "stream",
     "text": [
      "['John', 'Doe', 'john-doe@bogusemail.com']\n",
      "['Mary', 'Smith-Robinson', 'maryjacobs@bogusemail.com']\n",
      "['Dave', 'Smith', 'davesmith@bogusemail.com']\n",
      "['Jane', 'Stuart', 'janestuart@bogusemail.com']\n",
      "['Tom', 'Wright', 'tomwright@bogusemail.com']\n",
      "['Steve', 'Robinson', 'steverobinson@bogusemail.com']\n",
      "['Nicole', 'Jacobs', 'nicolejacobs@bogusemail.com']\n",
      "['Jane', 'Wright', 'janewright@bogusemail.com']\n",
      "['Jane', 'Doe', 'janedoe@bogusemail.com']\n",
      "['Kurt', 'Wright', 'kurtwright@bogusemail.com']\n",
      "['Kurt', 'Robinson', 'kurtrobinson@bogusemail.com']\n",
      "['Jane', 'Jenkins', 'janejenkins@bogusemail.com']\n",
      "['Neil', 'Robinson', 'neilrobinson@bogusemail.com']\n",
      "['Tom', 'Patterson', 'tompatterson@bogusemail.com']\n",
      "['Sam', 'Jenkins', 'samjenkins@bogusemail.com']\n",
      "['Steve', 'Stuart', 'stevestuart@bogusemail.com']\n",
      "['Maggie', 'Patterson', 'maggiepatterson@bogusemail.com']\n",
      "['Maggie', 'Stuart', 'maggiestuart@bogusemail.com']\n",
      "['Jane', 'Doe', 'janedoe@bogusemail.com']\n",
      "['Steve', 'Patterson', 'stevepatterson@bogusemail.com']\n",
      "['Dave', 'Smith', 'davesmith@bogusemail.com']\n",
      "['Sam', 'Wilks', 'samwilks@bogusemail.com']\n",
      "['Kurt', 'Jefferson', 'kurtjefferson@bogusemail.com']\n",
      "['Sam', 'Stuart', 'samstuart@bogusemail.com']\n",
      "['Jane', 'Stuart', 'janestuart@bogusemail.com']\n",
      "['Dave', 'Davis', 'davedavis@bogusemail.com']\n",
      "['Sam', 'Patterson', 'sampatterson@bogusemail.com']\n",
      "['Tom', 'Jefferson', 'tomjefferson@bogusemail.com']\n",
      "['Jane', 'Stuart', 'janestuart@bogusemail.com']\n",
      "['Maggie', 'Jefferson', 'maggiejefferson@bogusemail.com']\n",
      "['Mary', 'Wilks', 'marywilks@bogusemail.com']\n",
      "['Neil', 'Patterson', 'neilpatterson@bogusemail.com']\n",
      "['Corey', 'Davis', 'coreydavis@bogusemail.com']\n",
      "['Steve', 'Jacobs', 'stevejacobs@bogusemail.com']\n",
      "['Jane', 'Jenkins', 'janejenkins@bogusemail.com']\n",
      "['John', 'Jacobs', 'johnjacobs@bogusemail.com']\n",
      "['Neil', 'Smith', 'neilsmith@bogusemail.com']\n",
      "['Corey', 'Wilks', 'coreywilks@bogusemail.com']\n",
      "['Corey', 'Smith', 'coreysmith@bogusemail.com']\n",
      "['Mary', 'Patterson', 'marypatterson@bogusemail.com']\n",
      "['Jane', 'Stuart', 'janestuart@bogusemail.com']\n",
      "['Travis', 'Arnold', 'travisarnold@bogusemail.com']\n",
      "['John', 'Robinson', 'johnrobinson@bogusemail.com']\n",
      "['Travis', 'Arnold', 'travisarnold@bogusemail.com']\n"
     ]
    }
   ],
   "source": [
    "with open('names.csv', 'r') as csv_file:\n",
    "    csv_reader = csv.reader(csv_file)\n",
    "    \n",
    "    next(csv_reader)\n",
    "    \n",
    "    for line in csv_reader:\n",
    "        print(line)"
   ]
  },
  {
   "cell_type": "markdown",
   "metadata": {},
   "source": [
    "### Say we want to copy the data of this CSV file to another CSV file and use ' - ' (dash) as delimeter."
   ]
  },
  {
   "cell_type": "code",
   "execution_count": 57,
   "metadata": {},
   "outputs": [],
   "source": [
    "with open('names.csv', 'r') as csv_file:\n",
    "    csv_reader = csv.reader(csv_file)\n",
    "    \n",
    "    # opening a new file for writing\n",
    "    with open('new_names.csv', 'w') as new_file:\n",
    "        csv_writer = csv.writer(new_file, delimiter = '-')\n",
    "    \n",
    "        for line in csv_reader:\n",
    "            csv_writer.writerow(line)"
   ]
  },
  {
   "cell_type": "code",
   "execution_count": 58,
   "metadata": {},
   "outputs": [
    {
     "name": "stdout",
     "output_type": "stream",
     "text": [
      "['first_name-last_name-email']\n",
      "['John-Doe-\"john-doe@bogusemail.com\"']\n",
      "['Mary-\"Smith-Robinson\"-maryjacobs@bogusemail.com']\n",
      "['Dave-Smith-davesmith@bogusemail.com']\n",
      "['Jane-Stuart-janestuart@bogusemail.com']\n",
      "['Tom-Wright-tomwright@bogusemail.com']\n",
      "['Steve-Robinson-steverobinson@bogusemail.com']\n",
      "['Nicole-Jacobs-nicolejacobs@bogusemail.com']\n",
      "['Jane-Wright-janewright@bogusemail.com']\n",
      "['Jane-Doe-janedoe@bogusemail.com']\n",
      "['Kurt-Wright-kurtwright@bogusemail.com']\n",
      "['Kurt-Robinson-kurtrobinson@bogusemail.com']\n",
      "['Jane-Jenkins-janejenkins@bogusemail.com']\n",
      "['Neil-Robinson-neilrobinson@bogusemail.com']\n",
      "['Tom-Patterson-tompatterson@bogusemail.com']\n",
      "['Sam-Jenkins-samjenkins@bogusemail.com']\n",
      "['Steve-Stuart-stevestuart@bogusemail.com']\n",
      "['Maggie-Patterson-maggiepatterson@bogusemail.com']\n",
      "['Maggie-Stuart-maggiestuart@bogusemail.com']\n",
      "['Jane-Doe-janedoe@bogusemail.com']\n",
      "['Steve-Patterson-stevepatterson@bogusemail.com']\n",
      "['Dave-Smith-davesmith@bogusemail.com']\n",
      "['Sam-Wilks-samwilks@bogusemail.com']\n",
      "['Kurt-Jefferson-kurtjefferson@bogusemail.com']\n",
      "['Sam-Stuart-samstuart@bogusemail.com']\n",
      "['Jane-Stuart-janestuart@bogusemail.com']\n",
      "['Dave-Davis-davedavis@bogusemail.com']\n",
      "['Sam-Patterson-sampatterson@bogusemail.com']\n",
      "['Tom-Jefferson-tomjefferson@bogusemail.com']\n",
      "['Jane-Stuart-janestuart@bogusemail.com']\n",
      "['Maggie-Jefferson-maggiejefferson@bogusemail.com']\n",
      "['Mary-Wilks-marywilks@bogusemail.com']\n",
      "['Neil-Patterson-neilpatterson@bogusemail.com']\n",
      "['Corey-Davis-coreydavis@bogusemail.com']\n",
      "['Steve-Jacobs-stevejacobs@bogusemail.com']\n",
      "['Jane-Jenkins-janejenkins@bogusemail.com']\n",
      "['John-Jacobs-johnjacobs@bogusemail.com']\n",
      "['Neil-Smith-neilsmith@bogusemail.com']\n",
      "['Corey-Wilks-coreywilks@bogusemail.com']\n",
      "['Corey-Smith-coreysmith@bogusemail.com']\n",
      "['Mary-Patterson-marypatterson@bogusemail.com']\n",
      "['Jane-Stuart-janestuart@bogusemail.com']\n",
      "['Travis-Arnold-travisarnold@bogusemail.com']\n",
      "['John-Robinson-johnrobinson@bogusemail.com']\n",
      "['Travis-Arnold-travisarnold@bogusemail.com']\n"
     ]
    }
   ],
   "source": [
    "with open('new_names.csv', 'r') as new_csv_file:\n",
    "    csv_reader = csv.reader(new_csv_file)\n",
    "    for line in csv_reader:\n",
    "        print(line)"
   ]
  },
  {
   "cell_type": "markdown",
   "metadata": {},
   "source": [
    "### Let's use something which is more easy to read as a DELIMITER\n",
    "We can try using tabs **```\\t```**"
   ]
  },
  {
   "cell_type": "code",
   "execution_count": 59,
   "metadata": {},
   "outputs": [],
   "source": [
    "with open('names.csv', 'r') as csv_file:\n",
    "    csv_reader = csv.reader(csv_file)\n",
    "    \n",
    "    # opening a new file for writing\n",
    "    with open('new_names.csv', 'w') as new_file:\n",
    "        csv_writer = csv.writer(new_file, delimiter = '\\t')\n",
    "    \n",
    "        for line in csv_reader:\n",
    "            csv_writer.writerow(line)"
   ]
  },
  {
   "cell_type": "code",
   "execution_count": 60,
   "metadata": {},
   "outputs": [
    {
     "name": "stdout",
     "output_type": "stream",
     "text": [
      "first_name\tlast_name\temail\r",
      "\r\n",
      "John\tDoe\tjohn-doe@bogusemail.com\r",
      "\r\n",
      "Mary\tSmith-Robinson\tmaryjacobs@bogusemail.com\r",
      "\r\n",
      "Dave\tSmith\tdavesmith@bogusemail.com\r",
      "\r\n",
      "Jane\tStuart\tjanestuart@bogusemail.com\r",
      "\r\n",
      "Tom\tWright\ttomwright@bogusemail.com\r",
      "\r\n",
      "Steve\tRobinson\tsteverobinson@bogusemail.com\r",
      "\r\n",
      "Nicole\tJacobs\tnicolejacobs@bogusemail.com\r",
      "\r\n",
      "Jane\tWright\tjanewright@bogusemail.com\r",
      "\r\n",
      "Jane\tDoe\tjanedoe@bogusemail.com\r",
      "\r\n",
      "Kurt\tWright\tkurtwright@bogusemail.com\r",
      "\r\n",
      "Kurt\tRobinson\tkurtrobinson@bogusemail.com\r",
      "\r\n",
      "Jane\tJenkins\tjanejenkins@bogusemail.com\r",
      "\r\n",
      "Neil\tRobinson\tneilrobinson@bogusemail.com\r",
      "\r\n",
      "Tom\tPatterson\ttompatterson@bogusemail.com\r",
      "\r\n",
      "Sam\tJenkins\tsamjenkins@bogusemail.com\r",
      "\r\n",
      "Steve\tStuart\tstevestuart@bogusemail.com\r",
      "\r\n",
      "Maggie\tPatterson\tmaggiepatterson@bogusemail.com\r",
      "\r\n",
      "Maggie\tStuart\tmaggiestuart@bogusemail.com\r",
      "\r\n",
      "Jane\tDoe\tjanedoe@bogusemail.com\r",
      "\r\n",
      "Steve\tPatterson\tstevepatterson@bogusemail.com\r",
      "\r\n",
      "Dave\tSmith\tdavesmith@bogusemail.com\r",
      "\r\n",
      "Sam\tWilks\tsamwilks@bogusemail.com\r",
      "\r\n",
      "Kurt\tJefferson\tkurtjefferson@bogusemail.com\r",
      "\r\n",
      "Sam\tStuart\tsamstuart@bogusemail.com\r",
      "\r\n",
      "Jane\tStuart\tjanestuart@bogusemail.com\r",
      "\r\n",
      "Dave\tDavis\tdavedavis@bogusemail.com\r",
      "\r\n",
      "Sam\tPatterson\tsampatterson@bogusemail.com\r",
      "\r\n",
      "Tom\tJefferson\ttomjefferson@bogusemail.com\r",
      "\r\n",
      "Jane\tStuart\tjanestuart@bogusemail.com\r",
      "\r\n",
      "Maggie\tJefferson\tmaggiejefferson@bogusemail.com\r",
      "\r\n",
      "Mary\tWilks\tmarywilks@bogusemail.com\r",
      "\r\n",
      "Neil\tPatterson\tneilpatterson@bogusemail.com\r",
      "\r\n",
      "Corey\tDavis\tcoreydavis@bogusemail.com\r",
      "\r\n",
      "Steve\tJacobs\tstevejacobs@bogusemail.com\r",
      "\r\n",
      "Jane\tJenkins\tjanejenkins@bogusemail.com\r",
      "\r\n",
      "John\tJacobs\tjohnjacobs@bogusemail.com\r",
      "\r\n",
      "Neil\tSmith\tneilsmith@bogusemail.com\r",
      "\r\n",
      "Corey\tWilks\tcoreywilks@bogusemail.com\r",
      "\r\n",
      "Corey\tSmith\tcoreysmith@bogusemail.com\r",
      "\r\n",
      "Mary\tPatterson\tmarypatterson@bogusemail.com\r",
      "\r\n",
      "Jane\tStuart\tjanestuart@bogusemail.com\r",
      "\r\n",
      "Travis\tArnold\ttravisarnold@bogusemail.com\r",
      "\r\n",
      "John\tRobinson\tjohnrobinson@bogusemail.com\r",
      "\r\n",
      "Travis\tArnold\ttravisarnold@bogusemail.com\r",
      "\r\n"
     ]
    }
   ],
   "source": [
    "!cat new_names.csv"
   ]
  },
  {
   "cell_type": "code",
   "execution_count": 61,
   "metadata": {},
   "outputs": [
    {
     "name": "stdout",
     "output_type": "stream",
     "text": [
      "['first_name', 'last_name', 'email']\n",
      "['John', 'Doe', 'john-doe@bogusemail.com']\n",
      "['Mary', 'Smith-Robinson', 'maryjacobs@bogusemail.com']\n",
      "['Dave', 'Smith', 'davesmith@bogusemail.com']\n",
      "['Jane', 'Stuart', 'janestuart@bogusemail.com']\n",
      "['Tom', 'Wright', 'tomwright@bogusemail.com']\n",
      "['Steve', 'Robinson', 'steverobinson@bogusemail.com']\n",
      "['Nicole', 'Jacobs', 'nicolejacobs@bogusemail.com']\n",
      "['Jane', 'Wright', 'janewright@bogusemail.com']\n",
      "['Jane', 'Doe', 'janedoe@bogusemail.com']\n",
      "['Kurt', 'Wright', 'kurtwright@bogusemail.com']\n",
      "['Kurt', 'Robinson', 'kurtrobinson@bogusemail.com']\n",
      "['Jane', 'Jenkins', 'janejenkins@bogusemail.com']\n",
      "['Neil', 'Robinson', 'neilrobinson@bogusemail.com']\n",
      "['Tom', 'Patterson', 'tompatterson@bogusemail.com']\n",
      "['Sam', 'Jenkins', 'samjenkins@bogusemail.com']\n",
      "['Steve', 'Stuart', 'stevestuart@bogusemail.com']\n",
      "['Maggie', 'Patterson', 'maggiepatterson@bogusemail.com']\n",
      "['Maggie', 'Stuart', 'maggiestuart@bogusemail.com']\n",
      "['Jane', 'Doe', 'janedoe@bogusemail.com']\n",
      "['Steve', 'Patterson', 'stevepatterson@bogusemail.com']\n",
      "['Dave', 'Smith', 'davesmith@bogusemail.com']\n",
      "['Sam', 'Wilks', 'samwilks@bogusemail.com']\n",
      "['Kurt', 'Jefferson', 'kurtjefferson@bogusemail.com']\n",
      "['Sam', 'Stuart', 'samstuart@bogusemail.com']\n",
      "['Jane', 'Stuart', 'janestuart@bogusemail.com']\n",
      "['Dave', 'Davis', 'davedavis@bogusemail.com']\n",
      "['Sam', 'Patterson', 'sampatterson@bogusemail.com']\n",
      "['Tom', 'Jefferson', 'tomjefferson@bogusemail.com']\n",
      "['Jane', 'Stuart', 'janestuart@bogusemail.com']\n",
      "['Maggie', 'Jefferson', 'maggiejefferson@bogusemail.com']\n",
      "['Mary', 'Wilks', 'marywilks@bogusemail.com']\n",
      "['Neil', 'Patterson', 'neilpatterson@bogusemail.com']\n",
      "['Corey', 'Davis', 'coreydavis@bogusemail.com']\n",
      "['Steve', 'Jacobs', 'stevejacobs@bogusemail.com']\n",
      "['Jane', 'Jenkins', 'janejenkins@bogusemail.com']\n",
      "['John', 'Jacobs', 'johnjacobs@bogusemail.com']\n",
      "['Neil', 'Smith', 'neilsmith@bogusemail.com']\n",
      "['Corey', 'Wilks', 'coreywilks@bogusemail.com']\n",
      "['Corey', 'Smith', 'coreysmith@bogusemail.com']\n",
      "['Mary', 'Patterson', 'marypatterson@bogusemail.com']\n",
      "['Jane', 'Stuart', 'janestuart@bogusemail.com']\n",
      "['Travis', 'Arnold', 'travisarnold@bogusemail.com']\n",
      "['John', 'Robinson', 'johnrobinson@bogusemail.com']\n",
      "['Travis', 'Arnold', 'travisarnold@bogusemail.com']\n"
     ]
    }
   ],
   "source": [
    "with open('new_names.csv', 'r') as new_csv_file:\n",
    "    csv_reader = csv.reader(new_csv_file, delimiter = '\\t')\n",
    "    for line in csv_reader:\n",
    "        print(line)"
   ]
  },
  {
   "cell_type": "markdown",
   "metadata": {},
   "source": [
    "### Working with CSV files (Alternate approach)\n",
    "By using **```DictReader()```** (dictionary reader) and **```DictWriter()```** dictionary_writer()"
   ]
  },
  {
   "cell_type": "code",
   "execution_count": 62,
   "metadata": {},
   "outputs": [
    {
     "name": "stdout",
     "output_type": "stream",
     "text": [
      "OrderedDict([('first_name', 'John'), ('last_name', 'Doe'), ('email', 'john-doe@bogusemail.com')])\n",
      "OrderedDict([('first_name', 'Mary'), ('last_name', 'Smith-Robinson'), ('email', 'maryjacobs@bogusemail.com')])\n",
      "OrderedDict([('first_name', 'Dave'), ('last_name', 'Smith'), ('email', 'davesmith@bogusemail.com')])\n",
      "OrderedDict([('first_name', 'Jane'), ('last_name', 'Stuart'), ('email', 'janestuart@bogusemail.com')])\n",
      "OrderedDict([('first_name', 'Tom'), ('last_name', 'Wright'), ('email', 'tomwright@bogusemail.com')])\n",
      "OrderedDict([('first_name', 'Steve'), ('last_name', 'Robinson'), ('email', 'steverobinson@bogusemail.com')])\n",
      "OrderedDict([('first_name', 'Nicole'), ('last_name', 'Jacobs'), ('email', 'nicolejacobs@bogusemail.com')])\n",
      "OrderedDict([('first_name', 'Jane'), ('last_name', 'Wright'), ('email', 'janewright@bogusemail.com')])\n",
      "OrderedDict([('first_name', 'Jane'), ('last_name', 'Doe'), ('email', 'janedoe@bogusemail.com')])\n",
      "OrderedDict([('first_name', 'Kurt'), ('last_name', 'Wright'), ('email', 'kurtwright@bogusemail.com')])\n",
      "OrderedDict([('first_name', 'Kurt'), ('last_name', 'Robinson'), ('email', 'kurtrobinson@bogusemail.com')])\n",
      "OrderedDict([('first_name', 'Jane'), ('last_name', 'Jenkins'), ('email', 'janejenkins@bogusemail.com')])\n",
      "OrderedDict([('first_name', 'Neil'), ('last_name', 'Robinson'), ('email', 'neilrobinson@bogusemail.com')])\n",
      "OrderedDict([('first_name', 'Tom'), ('last_name', 'Patterson'), ('email', 'tompatterson@bogusemail.com')])\n",
      "OrderedDict([('first_name', 'Sam'), ('last_name', 'Jenkins'), ('email', 'samjenkins@bogusemail.com')])\n",
      "OrderedDict([('first_name', 'Steve'), ('last_name', 'Stuart'), ('email', 'stevestuart@bogusemail.com')])\n",
      "OrderedDict([('first_name', 'Maggie'), ('last_name', 'Patterson'), ('email', 'maggiepatterson@bogusemail.com')])\n",
      "OrderedDict([('first_name', 'Maggie'), ('last_name', 'Stuart'), ('email', 'maggiestuart@bogusemail.com')])\n",
      "OrderedDict([('first_name', 'Jane'), ('last_name', 'Doe'), ('email', 'janedoe@bogusemail.com')])\n",
      "OrderedDict([('first_name', 'Steve'), ('last_name', 'Patterson'), ('email', 'stevepatterson@bogusemail.com')])\n",
      "OrderedDict([('first_name', 'Dave'), ('last_name', 'Smith'), ('email', 'davesmith@bogusemail.com')])\n",
      "OrderedDict([('first_name', 'Sam'), ('last_name', 'Wilks'), ('email', 'samwilks@bogusemail.com')])\n",
      "OrderedDict([('first_name', 'Kurt'), ('last_name', 'Jefferson'), ('email', 'kurtjefferson@bogusemail.com')])\n",
      "OrderedDict([('first_name', 'Sam'), ('last_name', 'Stuart'), ('email', 'samstuart@bogusemail.com')])\n",
      "OrderedDict([('first_name', 'Jane'), ('last_name', 'Stuart'), ('email', 'janestuart@bogusemail.com')])\n",
      "OrderedDict([('first_name', 'Dave'), ('last_name', 'Davis'), ('email', 'davedavis@bogusemail.com')])\n",
      "OrderedDict([('first_name', 'Sam'), ('last_name', 'Patterson'), ('email', 'sampatterson@bogusemail.com')])\n",
      "OrderedDict([('first_name', 'Tom'), ('last_name', 'Jefferson'), ('email', 'tomjefferson@bogusemail.com')])\n",
      "OrderedDict([('first_name', 'Jane'), ('last_name', 'Stuart'), ('email', 'janestuart@bogusemail.com')])\n",
      "OrderedDict([('first_name', 'Maggie'), ('last_name', 'Jefferson'), ('email', 'maggiejefferson@bogusemail.com')])\n",
      "OrderedDict([('first_name', 'Mary'), ('last_name', 'Wilks'), ('email', 'marywilks@bogusemail.com')])\n",
      "OrderedDict([('first_name', 'Neil'), ('last_name', 'Patterson'), ('email', 'neilpatterson@bogusemail.com')])\n",
      "OrderedDict([('first_name', 'Corey'), ('last_name', 'Davis'), ('email', 'coreydavis@bogusemail.com')])\n",
      "OrderedDict([('first_name', 'Steve'), ('last_name', 'Jacobs'), ('email', 'stevejacobs@bogusemail.com')])\n",
      "OrderedDict([('first_name', 'Jane'), ('last_name', 'Jenkins'), ('email', 'janejenkins@bogusemail.com')])\n",
      "OrderedDict([('first_name', 'John'), ('last_name', 'Jacobs'), ('email', 'johnjacobs@bogusemail.com')])\n",
      "OrderedDict([('first_name', 'Neil'), ('last_name', 'Smith'), ('email', 'neilsmith@bogusemail.com')])\n",
      "OrderedDict([('first_name', 'Corey'), ('last_name', 'Wilks'), ('email', 'coreywilks@bogusemail.com')])\n",
      "OrderedDict([('first_name', 'Corey'), ('last_name', 'Smith'), ('email', 'coreysmith@bogusemail.com')])\n",
      "OrderedDict([('first_name', 'Mary'), ('last_name', 'Patterson'), ('email', 'marypatterson@bogusemail.com')])\n",
      "OrderedDict([('first_name', 'Jane'), ('last_name', 'Stuart'), ('email', 'janestuart@bogusemail.com')])\n",
      "OrderedDict([('first_name', 'Travis'), ('last_name', 'Arnold'), ('email', 'travisarnold@bogusemail.com')])\n",
      "OrderedDict([('first_name', 'John'), ('last_name', 'Robinson'), ('email', 'johnrobinson@bogusemail.com')])\n",
      "OrderedDict([('first_name', 'Travis'), ('last_name', 'Arnold'), ('email', 'travisarnold@bogusemail.com')])\n"
     ]
    }
   ],
   "source": [
    "with open('names.csv', 'r') as csv_file:\n",
    "    csv_reader = csv.DictReader(csv_file)\n",
    "    \n",
    "    for line in csv_reader:\n",
    "        print(line)"
   ]
  },
  {
   "cell_type": "markdown",
   "metadata": {},
   "source": [
    "Now our headers are the **KEYS** and **VALUES** are the values stored in the csv file.\n",
    "To bring out all the **emails** we used its index like this.\n",
    "```python\n",
    "with open('names.csv', 'r') as csv_file:\n",
    "    csv_reader = csv.reader(csv_file)\n",
    "    \n",
    "    for line in csv_reader:\n",
    "        print(line[2])\n",
    "```\n",
    "In this code we use the index of the email, i.e. 2\n",
    "For someone else, it would be a little be cumbersome to open the csv file, check what is stored at index 2. Here, dictionary approach helps a lot because all data is stored in the form of key and values.\n",
    "<br>To access all the email, we can use the following code. Just passing the key. Which is **email** here."
   ]
  },
  {
   "cell_type": "code",
   "execution_count": 63,
   "metadata": {},
   "outputs": [
    {
     "name": "stdout",
     "output_type": "stream",
     "text": [
      "john-doe@bogusemail.com\n",
      "maryjacobs@bogusemail.com\n",
      "davesmith@bogusemail.com\n",
      "janestuart@bogusemail.com\n",
      "tomwright@bogusemail.com\n",
      "steverobinson@bogusemail.com\n",
      "nicolejacobs@bogusemail.com\n",
      "janewright@bogusemail.com\n",
      "janedoe@bogusemail.com\n",
      "kurtwright@bogusemail.com\n",
      "kurtrobinson@bogusemail.com\n",
      "janejenkins@bogusemail.com\n",
      "neilrobinson@bogusemail.com\n",
      "tompatterson@bogusemail.com\n",
      "samjenkins@bogusemail.com\n",
      "stevestuart@bogusemail.com\n",
      "maggiepatterson@bogusemail.com\n",
      "maggiestuart@bogusemail.com\n",
      "janedoe@bogusemail.com\n",
      "stevepatterson@bogusemail.com\n",
      "davesmith@bogusemail.com\n",
      "samwilks@bogusemail.com\n",
      "kurtjefferson@bogusemail.com\n",
      "samstuart@bogusemail.com\n",
      "janestuart@bogusemail.com\n",
      "davedavis@bogusemail.com\n",
      "sampatterson@bogusemail.com\n",
      "tomjefferson@bogusemail.com\n",
      "janestuart@bogusemail.com\n",
      "maggiejefferson@bogusemail.com\n",
      "marywilks@bogusemail.com\n",
      "neilpatterson@bogusemail.com\n",
      "coreydavis@bogusemail.com\n",
      "stevejacobs@bogusemail.com\n",
      "janejenkins@bogusemail.com\n",
      "johnjacobs@bogusemail.com\n",
      "neilsmith@bogusemail.com\n",
      "coreywilks@bogusemail.com\n",
      "coreysmith@bogusemail.com\n",
      "marypatterson@bogusemail.com\n",
      "janestuart@bogusemail.com\n",
      "travisarnold@bogusemail.com\n",
      "johnrobinson@bogusemail.com\n",
      "travisarnold@bogusemail.com\n"
     ]
    }
   ],
   "source": [
    "with open('names.csv', 'r') as csv_file:\n",
    "    csv_reader = csv.DictReader(csv_file)\n",
    "    \n",
    "    for line in csv_reader:\n",
    "        print(line['email'])"
   ]
  },
  {
   "cell_type": "markdown",
   "metadata": {},
   "source": [
    "#### Dictionary Writer ```DictWriter()```"
   ]
  },
  {
   "cell_type": "code",
   "execution_count": 64,
   "metadata": {},
   "outputs": [],
   "source": [
    "with open('names.csv', 'r') as csv_file:\n",
    "    csv_reader = csv.DictReader(csv_file)\n",
    "    \n",
    "    with open('new_names.csv', 'w') as new_file:\n",
    "        fieldnames = ['first_name', 'last_name', 'email']\n",
    "        \n",
    "        csv_writer = csv.DictWriter(new_file, fieldnames = fieldnames, delimiter = '\\t')\n",
    "        \n",
    "        # if we wish to write those Headers\n",
    "        csv_writer.writeheader()\n",
    "        \n",
    "        for line in csv_reader:\n",
    "            csv_writer.writerow(line)"
   ]
  },
  {
   "cell_type": "code",
   "execution_count": 65,
   "metadata": {},
   "outputs": [
    {
     "name": "stdout",
     "output_type": "stream",
     "text": [
      "first_name\tlast_name\temail\r",
      "\r\n",
      "John\tDoe\tjohn-doe@bogusemail.com\r",
      "\r\n",
      "Mary\tSmith-Robinson\tmaryjacobs@bogusemail.com\r",
      "\r\n",
      "Dave\tSmith\tdavesmith@bogusemail.com\r",
      "\r\n",
      "Jane\tStuart\tjanestuart@bogusemail.com\r",
      "\r\n",
      "Tom\tWright\ttomwright@bogusemail.com\r",
      "\r\n",
      "Steve\tRobinson\tsteverobinson@bogusemail.com\r",
      "\r\n",
      "Nicole\tJacobs\tnicolejacobs@bogusemail.com\r",
      "\r\n",
      "Jane\tWright\tjanewright@bogusemail.com\r",
      "\r\n",
      "Jane\tDoe\tjanedoe@bogusemail.com\r",
      "\r\n",
      "Kurt\tWright\tkurtwright@bogusemail.com\r",
      "\r\n",
      "Kurt\tRobinson\tkurtrobinson@bogusemail.com\r",
      "\r\n",
      "Jane\tJenkins\tjanejenkins@bogusemail.com\r",
      "\r\n",
      "Neil\tRobinson\tneilrobinson@bogusemail.com\r",
      "\r\n",
      "Tom\tPatterson\ttompatterson@bogusemail.com\r",
      "\r\n",
      "Sam\tJenkins\tsamjenkins@bogusemail.com\r",
      "\r\n",
      "Steve\tStuart\tstevestuart@bogusemail.com\r",
      "\r\n",
      "Maggie\tPatterson\tmaggiepatterson@bogusemail.com\r",
      "\r\n",
      "Maggie\tStuart\tmaggiestuart@bogusemail.com\r",
      "\r\n",
      "Jane\tDoe\tjanedoe@bogusemail.com\r",
      "\r\n",
      "Steve\tPatterson\tstevepatterson@bogusemail.com\r",
      "\r\n",
      "Dave\tSmith\tdavesmith@bogusemail.com\r",
      "\r\n",
      "Sam\tWilks\tsamwilks@bogusemail.com\r",
      "\r\n",
      "Kurt\tJefferson\tkurtjefferson@bogusemail.com\r",
      "\r\n",
      "Sam\tStuart\tsamstuart@bogusemail.com\r",
      "\r\n",
      "Jane\tStuart\tjanestuart@bogusemail.com\r",
      "\r\n",
      "Dave\tDavis\tdavedavis@bogusemail.com\r",
      "\r\n",
      "Sam\tPatterson\tsampatterson@bogusemail.com\r",
      "\r\n",
      "Tom\tJefferson\ttomjefferson@bogusemail.com\r",
      "\r\n",
      "Jane\tStuart\tjanestuart@bogusemail.com\r",
      "\r\n",
      "Maggie\tJefferson\tmaggiejefferson@bogusemail.com\r",
      "\r\n",
      "Mary\tWilks\tmarywilks@bogusemail.com\r",
      "\r\n",
      "Neil\tPatterson\tneilpatterson@bogusemail.com\r",
      "\r\n",
      "Corey\tDavis\tcoreydavis@bogusemail.com\r",
      "\r\n",
      "Steve\tJacobs\tstevejacobs@bogusemail.com\r",
      "\r\n",
      "Jane\tJenkins\tjanejenkins@bogusemail.com\r",
      "\r\n",
      "John\tJacobs\tjohnjacobs@bogusemail.com\r",
      "\r\n",
      "Neil\tSmith\tneilsmith@bogusemail.com\r",
      "\r\n",
      "Corey\tWilks\tcoreywilks@bogusemail.com\r",
      "\r\n",
      "Corey\tSmith\tcoreysmith@bogusemail.com\r",
      "\r\n",
      "Mary\tPatterson\tmarypatterson@bogusemail.com\r",
      "\r\n",
      "Jane\tStuart\tjanestuart@bogusemail.com\r",
      "\r\n",
      "Travis\tArnold\ttravisarnold@bogusemail.com\r",
      "\r\n",
      "John\tRobinson\tjohnrobinson@bogusemail.com\r",
      "\r\n",
      "Travis\tArnold\ttravisarnold@bogusemail.com\r",
      "\r\n"
     ]
    }
   ],
   "source": [
    "!cat new_names.csv"
   ]
  },
  {
   "cell_type": "markdown",
   "metadata": {},
   "source": [
    "### To delete certain column\n",
    "Say we want to delete email column.<br>\n",
    "**Changes made as compared to the last code snippet**\n",
    "1. Removed \"email\" from the fieldnames.\n",
    "2. In the for loop, delete the values using email as key."
   ]
  },
  {
   "cell_type": "code",
   "execution_count": 66,
   "metadata": {},
   "outputs": [],
   "source": [
    "with open('names.csv', 'r') as csv_file:\n",
    "    csv_reader = csv.DictReader(csv_file)\n",
    "    \n",
    "    with open('new_names.csv', 'w') as new_file:\n",
    "        fieldnames = ['first_name', 'last_name']\n",
    "        \n",
    "        csv_writer = csv.DictWriter(new_file, fieldnames = fieldnames, delimiter = '\\t')\n",
    "        \n",
    "        # if we wish to write those Headers\n",
    "        csv_writer.writeheader()\n",
    "        \n",
    "        for line in csv_reader:\n",
    "            del line['email']\n",
    "            csv_writer.writerow(line)"
   ]
  },
  {
   "cell_type": "code",
   "execution_count": 67,
   "metadata": {},
   "outputs": [
    {
     "name": "stdout",
     "output_type": "stream",
     "text": [
      "first_name\tlast_name\r",
      "\r\n",
      "John\tDoe\r",
      "\r\n",
      "Mary\tSmith-Robinson\r",
      "\r\n",
      "Dave\tSmith\r",
      "\r\n",
      "Jane\tStuart\r",
      "\r\n",
      "Tom\tWright\r",
      "\r\n",
      "Steve\tRobinson\r",
      "\r\n",
      "Nicole\tJacobs\r",
      "\r\n",
      "Jane\tWright\r",
      "\r\n",
      "Jane\tDoe\r",
      "\r\n",
      "Kurt\tWright\r",
      "\r\n",
      "Kurt\tRobinson\r",
      "\r\n",
      "Jane\tJenkins\r",
      "\r\n",
      "Neil\tRobinson\r",
      "\r\n",
      "Tom\tPatterson\r",
      "\r\n",
      "Sam\tJenkins\r",
      "\r\n",
      "Steve\tStuart\r",
      "\r\n",
      "Maggie\tPatterson\r",
      "\r\n",
      "Maggie\tStuart\r",
      "\r\n",
      "Jane\tDoe\r",
      "\r\n",
      "Steve\tPatterson\r",
      "\r\n",
      "Dave\tSmith\r",
      "\r\n",
      "Sam\tWilks\r",
      "\r\n",
      "Kurt\tJefferson\r",
      "\r\n",
      "Sam\tStuart\r",
      "\r\n",
      "Jane\tStuart\r",
      "\r\n",
      "Dave\tDavis\r",
      "\r\n",
      "Sam\tPatterson\r",
      "\r\n",
      "Tom\tJefferson\r",
      "\r\n",
      "Jane\tStuart\r",
      "\r\n",
      "Maggie\tJefferson\r",
      "\r\n",
      "Mary\tWilks\r",
      "\r\n",
      "Neil\tPatterson\r",
      "\r\n",
      "Corey\tDavis\r",
      "\r\n",
      "Steve\tJacobs\r",
      "\r\n",
      "Jane\tJenkins\r",
      "\r\n",
      "John\tJacobs\r",
      "\r\n",
      "Neil\tSmith\r",
      "\r\n",
      "Corey\tWilks\r",
      "\r\n",
      "Corey\tSmith\r",
      "\r\n",
      "Mary\tPatterson\r",
      "\r\n",
      "Jane\tStuart\r",
      "\r\n",
      "Travis\tArnold\r",
      "\r\n",
      "John\tRobinson\r",
      "\r\n",
      "Travis\tArnold\r",
      "\r\n"
     ]
    }
   ],
   "source": [
    "!cat new_names.csv"
   ]
  }
 ],
 "metadata": {
  "kernelspec": {
   "display_name": "Python 3",
   "language": "python",
   "name": "python3"
  },
  "language_info": {
   "codemirror_mode": {
    "name": "ipython",
    "version": 3
   },
   "file_extension": ".py",
   "mimetype": "text/x-python",
   "name": "python",
   "nbconvert_exporter": "python",
   "pygments_lexer": "ipython3",
   "version": "3.6.8"
  }
 },
 "nbformat": 4,
 "nbformat_minor": 2
}
